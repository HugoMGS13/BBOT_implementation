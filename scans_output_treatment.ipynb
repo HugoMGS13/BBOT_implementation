{
 "cells": [
  {
   "cell_type": "code",
   "execution_count": 2,
   "id": "def32caa",
   "metadata": {},
   "outputs": [],
   "source": [
    "import pandas as pd\n",
    "\n",
    "df_output = pd.read_csv('/home/sec/Documentos/ImpBBOT/BBOT_implementation/scans/secretive_ruby/output.csv')"
   ]
  },
  {
   "cell_type": "code",
   "execution_count": 21,
   "id": "28cab8eb",
   "metadata": {},
   "outputs": [
    {
     "data": {
      "text/html": [
       "<div>\n",
       "<style scoped>\n",
       "    .dataframe tbody tr th:only-of-type {\n",
       "        vertical-align: middle;\n",
       "    }\n",
       "\n",
       "    .dataframe tbody tr th {\n",
       "        vertical-align: top;\n",
       "    }\n",
       "\n",
       "    .dataframe thead th {\n",
       "        text-align: right;\n",
       "    }\n",
       "</style>\n",
       "<table border=\"1\" class=\"dataframe\">\n",
       "  <thead>\n",
       "    <tr style=\"text-align: right;\">\n",
       "      <th></th>\n",
       "      <th>Event type</th>\n",
       "      <th>Event data</th>\n",
       "      <th>IP Address</th>\n",
       "      <th>Source Module</th>\n",
       "      <th>Discovery Path</th>\n",
       "    </tr>\n",
       "  </thead>\n",
       "  <tbody>\n",
       "    <tr>\n",
       "      <th>14</th>\n",
       "      <td>OPEN_TCP_PORT</td>\n",
       "      <td>evilcorp.com:443</td>\n",
       "      <td>208.91.112.55,2001:cdba::3257:9652</td>\n",
       "      <td>shodan_idb</td>\n",
       "      <td>Scan secretive_ruby seeded with DNS_NAME: evil...</td>\n",
       "    </tr>\n",
       "    <tr>\n",
       "      <th>16</th>\n",
       "      <td>OPEN_TCP_PORT</td>\n",
       "      <td>evilcorp.com:80</td>\n",
       "      <td>208.91.112.55,2001:cdba::3257:9652</td>\n",
       "      <td>shodan_idb</td>\n",
       "      <td>Scan secretive_ruby seeded with DNS_NAME: evil...</td>\n",
       "    </tr>\n",
       "  </tbody>\n",
       "</table>\n",
       "</div>"
      ],
      "text/plain": [
       "       Event type        Event data                          IP Address  \\\n",
       "14  OPEN_TCP_PORT  evilcorp.com:443  208.91.112.55,2001:cdba::3257:9652   \n",
       "16  OPEN_TCP_PORT   evilcorp.com:80  208.91.112.55,2001:cdba::3257:9652   \n",
       "\n",
       "   Source Module                                     Discovery Path  \n",
       "14    shodan_idb  Scan secretive_ruby seeded with DNS_NAME: evil...  \n",
       "16    shodan_idb  Scan secretive_ruby seeded with DNS_NAME: evil...  "
      ]
     },
     "execution_count": 21,
     "metadata": {},
     "output_type": "execute_result"
    }
   ],
   "source": [
    "df_output_tratado = df_output[['Event type', 'Event data', 'IP Address', 'Source Module', 'Discovery Path']].fillna('No info')\n",
    "\n",
    "filtro_dns = df_output_tratado['Event type'] == 'DNS_NAME'\n",
    "filtro_openports = df_output_tratado['Event type'] == 'OPEN_TCP_PORT'\n",
    "filtro_emails = df_output_tratado['Event type'] == 'EMAIL_ADDRESS'\n",
    "\n",
    "df_output_dnsnames = df_output_tratado[filtro_dns]\n",
    "df_output_openports = df_output_tratado[filtro_openports]\n",
    "# df_output_geolocation = df_output_tratado.loc[df_output_tratado['Event type'] == \"GEOLOCATION\"]\n",
    "df_output_emails = df_output_tratado[filtro_emails]\n",
    "\n",
    "df_output_openports"
   ]
  },
  {
   "cell_type": "code",
   "execution_count": null,
   "id": "f3afe9e1",
   "metadata": {},
   "outputs": [],
   "source": []
  },
  {
   "cell_type": "code",
   "execution_count": null,
   "id": "05464fc3",
   "metadata": {},
   "outputs": [],
   "source": []
  }
 ],
 "metadata": {
  "kernelspec": {
   "display_name": ".venv",
   "language": "python",
   "name": "python3"
  },
  "language_info": {
   "codemirror_mode": {
    "name": "ipython",
    "version": 3
   },
   "file_extension": ".py",
   "mimetype": "text/x-python",
   "name": "python",
   "nbconvert_exporter": "python",
   "pygments_lexer": "ipython3",
   "version": "3.11.2"
  }
 },
 "nbformat": 4,
 "nbformat_minor": 5
}
