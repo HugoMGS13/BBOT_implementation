{
 "cells": [
  {
   "cell_type": "code",
   "execution_count": null,
   "id": "76d4ceb1",
   "metadata": {},
   "outputs": [],
   "source": [
    "import pandas as pd\n",
    "\n",
    "df_output = pd.read_csv('caminho')"
   ]
  },
  {
   "cell_type": "code",
   "execution_count": null,
   "id": "2b604b98",
   "metadata": {},
   "outputs": [],
   "source": [
    "df_logins = df_output['Event data'].loc[df_output['Event type'] == \"PASSWORD\"].reset_index() #Criando um data frame chamado df_logins que armazena todos os logins \n",
    "#achados no scan\n",
    "df_logins[['email', 'senha']] = df_logins['Event data'].str.split(':', n=1, expand=True) #Adicionando as colunas \"email\" e \"senha\"\n",
    "#nelas serão armazenadas os logins achados, eles serão divididos usando o caractere \":\", tudo á esquerda vai pra coluna email e a direita pra senha\n",
    "#o parametro n, significa que cada linha será splitada somente uma vez, na primeira vez que achar o \":\"\n",
    "#o parametro expand=True especifíca que a lista vai crescer\n",
    "df_logins = df_logins.drop(columns=['Event data', 'index'])\n",
    "#usando o método .drop() para eliminar colunas da tabela"
   ]
  }
 ],
 "metadata": {
  "kernelspec": {
   "display_name": ".venv",
   "language": "python",
   "name": "python3"
  },
  "language_info": {
   "codemirror_mode": {
    "name": "ipython",
    "version": 3
   },
   "file_extension": ".py",
   "mimetype": "text/x-python",
   "name": "python",
   "nbconvert_exporter": "python",
   "pygments_lexer": "ipython3",
   "version": "3.11.2"
  }
 },
 "nbformat": 4,
 "nbformat_minor": 5
}
