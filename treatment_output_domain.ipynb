{
 "cells": [
  {
   "cell_type": "code",
   "execution_count": null,
   "id": "def32caa",
   "metadata": {},
   "outputs": [],
   "source": [
    "import pandas as pd\n",
    "\n",
    "df_output = pd.read_csv('caminho')"
   ]
  },
  {
   "cell_type": "code",
   "execution_count": null,
   "id": "f3afe9e1",
   "metadata": {},
   "outputs": [],
   "source": [
    "df_output_tratado = df_output[['Event type', 'Event data', 'IP Address', 'Source Module', 'Discovery Path']].fillna('No info')\n",
    "\n",
    "filtro_dns = df_output_tratado['Event type'] == 'DNS_NAME'\n",
    "filtro_openports = df_output_tratado['Event type'] == 'OPEN_TCP_PORT'\n",
    "filtro_emails = df_output_tratado['Event type'] == 'EMAIL_ADDRESS'\n",
    "\n",
    "df_output_dnsnames = df_output_tratado[filtro_dns]\n",
    "df_output_openports = df_output_tratado[filtro_openports]\n",
    "# df_output_geolocation = df_output_tratado.loc[df_output_tratado['Event type'] == \"GEOLOCATION\"]\n",
    "df_output_emails = df_output_tratado[filtro_emails]"
   ]
  }
 ],
 "metadata": {
  "kernelspec": {
   "display_name": ".venv",
   "language": "python",
   "name": "python3"
  },
  "language_info": {
   "codemirror_mode": {
    "name": "ipython",
    "version": 3
   },
   "file_extension": ".py",
   "mimetype": "text/x-python",
   "name": "python",
   "nbconvert_exporter": "python",
   "pygments_lexer": "ipython3",
   "version": "3.11.2"
  }
 },
 "nbformat": 4,
 "nbformat_minor": 5
}
